{
  "nbformat": 4,
  "nbformat_minor": 0,
  "metadata": {
    "colab": {
      "provenance": [],
      "mount_file_id": "109minR4A-1SojTCKGhcnQB8afmE9f9eK",
      "authorship_tag": "ABX9TyN5jCTBr4Qo9Rbe07NIaFcV",
      "include_colab_link": true
    },
    "kernelspec": {
      "name": "python3",
      "display_name": "Python 3"
    },
    "language_info": {
      "name": "python"
    }
  },
  "cells": [
    {
      "cell_type": "markdown",
      "metadata": {
        "id": "view-in-github",
        "colab_type": "text"
      },
      "source": [
        "<a href=\"https://colab.research.google.com/github/Aditi1217/DS_PY_Writeups_2001621/blob/main/Copy_of_Exp07_Notebook_2001621.ipynb\" target=\"_parent\"><img src=\"https://colab.research.google.com/assets/colab-badge.svg\" alt=\"Open In Colab\"/></a>"
      ]
    },
    {
      "cell_type": "code",
      "execution_count": null,
      "metadata": {
        "id": "VNnyVnEugUlt"
      },
      "outputs": [],
      "source": [
        "#importing pandas Libraries\n",
        "import numpy as num\n",
        "import pandas as pd\n",
        "import matplotlib.pyplot as plt\n"
      ]
    },
    {
      "cell_type": "code",
      "source": [
        "from google.colab import drive \n",
        "drive.mount('/content/My_Drive')"
      ],
      "metadata": {
        "colab": {
          "base_uri": "https://localhost:8080/"
        },
        "id": "6IdHhMDngdu6",
        "outputId": "aca66da9-674f-47e8-d51a-23e5e80eff87"
      },
      "execution_count": null,
      "outputs": [
        {
          "output_type": "stream",
          "name": "stdout",
          "text": [
            "Mounted at /content/My_Drive\n"
          ]
        }
      ]
    },
    {
      "cell_type": "code",
      "source": [
        "path=\"/content/drive/MyDrive/Colab Notebooks/buddymove_holidayiq.csv\"\n",
        "df=pd.read_csv(path,header=None)"
      ],
      "metadata": {
        "id": "QhHd6pPhg0rY"
      },
      "execution_count": null,
      "outputs": []
    },
    {
      "cell_type": "code",
      "source": [
        "df.describe()"
      ],
      "metadata": {
        "colab": {
          "base_uri": "https://localhost:8080/",
          "height": 175
        },
        "id": "E1t85woUhcfB",
        "outputId": "dfe7b6b9-62f3-4663-9688-a33bff98e0f1"
      },
      "execution_count": null,
      "outputs": [
        {
          "output_type": "execute_result",
          "data": {
            "text/plain": [
              "              0    1    2    3    4    5    6\n",
              "count       250  250  250  250  250  250  250\n",
              "unique      250   15   76   84   66   80   76\n",
              "top     User Id   12   84   94  104   89  143\n",
              "freq          1   35   17   10   15   12   10"
            ],
            "text/html": [
              "\n",
              "  <div id=\"df-3ae3690c-09ee-42a7-b06b-9ffeb1069b6f\">\n",
              "    <div class=\"colab-df-container\">\n",
              "      <div>\n",
              "<style scoped>\n",
              "    .dataframe tbody tr th:only-of-type {\n",
              "        vertical-align: middle;\n",
              "    }\n",
              "\n",
              "    .dataframe tbody tr th {\n",
              "        vertical-align: top;\n",
              "    }\n",
              "\n",
              "    .dataframe thead th {\n",
              "        text-align: right;\n",
              "    }\n",
              "</style>\n",
              "<table border=\"1\" class=\"dataframe\">\n",
              "  <thead>\n",
              "    <tr style=\"text-align: right;\">\n",
              "      <th></th>\n",
              "      <th>0</th>\n",
              "      <th>1</th>\n",
              "      <th>2</th>\n",
              "      <th>3</th>\n",
              "      <th>4</th>\n",
              "      <th>5</th>\n",
              "      <th>6</th>\n",
              "    </tr>\n",
              "  </thead>\n",
              "  <tbody>\n",
              "    <tr>\n",
              "      <th>count</th>\n",
              "      <td>250</td>\n",
              "      <td>250</td>\n",
              "      <td>250</td>\n",
              "      <td>250</td>\n",
              "      <td>250</td>\n",
              "      <td>250</td>\n",
              "      <td>250</td>\n",
              "    </tr>\n",
              "    <tr>\n",
              "      <th>unique</th>\n",
              "      <td>250</td>\n",
              "      <td>15</td>\n",
              "      <td>76</td>\n",
              "      <td>84</td>\n",
              "      <td>66</td>\n",
              "      <td>80</td>\n",
              "      <td>76</td>\n",
              "    </tr>\n",
              "    <tr>\n",
              "      <th>top</th>\n",
              "      <td>User Id</td>\n",
              "      <td>12</td>\n",
              "      <td>84</td>\n",
              "      <td>94</td>\n",
              "      <td>104</td>\n",
              "      <td>89</td>\n",
              "      <td>143</td>\n",
              "    </tr>\n",
              "    <tr>\n",
              "      <th>freq</th>\n",
              "      <td>1</td>\n",
              "      <td>35</td>\n",
              "      <td>17</td>\n",
              "      <td>10</td>\n",
              "      <td>15</td>\n",
              "      <td>12</td>\n",
              "      <td>10</td>\n",
              "    </tr>\n",
              "  </tbody>\n",
              "</table>\n",
              "</div>\n",
              "      <button class=\"colab-df-convert\" onclick=\"convertToInteractive('df-3ae3690c-09ee-42a7-b06b-9ffeb1069b6f')\"\n",
              "              title=\"Convert this dataframe to an interactive table.\"\n",
              "              style=\"display:none;\">\n",
              "        \n",
              "  <svg xmlns=\"http://www.w3.org/2000/svg\" height=\"24px\"viewBox=\"0 0 24 24\"\n",
              "       width=\"24px\">\n",
              "    <path d=\"M0 0h24v24H0V0z\" fill=\"none\"/>\n",
              "    <path d=\"M18.56 5.44l.94 2.06.94-2.06 2.06-.94-2.06-.94-.94-2.06-.94 2.06-2.06.94zm-11 1L8.5 8.5l.94-2.06 2.06-.94-2.06-.94L8.5 2.5l-.94 2.06-2.06.94zm10 10l.94 2.06.94-2.06 2.06-.94-2.06-.94-.94-2.06-.94 2.06-2.06.94z\"/><path d=\"M17.41 7.96l-1.37-1.37c-.4-.4-.92-.59-1.43-.59-.52 0-1.04.2-1.43.59L10.3 9.45l-7.72 7.72c-.78.78-.78 2.05 0 2.83L4 21.41c.39.39.9.59 1.41.59.51 0 1.02-.2 1.41-.59l7.78-7.78 2.81-2.81c.8-.78.8-2.07 0-2.86zM5.41 20L4 18.59l7.72-7.72 1.47 1.35L5.41 20z\"/>\n",
              "  </svg>\n",
              "      </button>\n",
              "      \n",
              "  <style>\n",
              "    .colab-df-container {\n",
              "      display:flex;\n",
              "      flex-wrap:wrap;\n",
              "      gap: 12px;\n",
              "    }\n",
              "\n",
              "    .colab-df-convert {\n",
              "      background-color: #E8F0FE;\n",
              "      border: none;\n",
              "      border-radius: 50%;\n",
              "      cursor: pointer;\n",
              "      display: none;\n",
              "      fill: #1967D2;\n",
              "      height: 32px;\n",
              "      padding: 0 0 0 0;\n",
              "      width: 32px;\n",
              "    }\n",
              "\n",
              "    .colab-df-convert:hover {\n",
              "      background-color: #E2EBFA;\n",
              "      box-shadow: 0px 1px 2px rgba(60, 64, 67, 0.3), 0px 1px 3px 1px rgba(60, 64, 67, 0.15);\n",
              "      fill: #174EA6;\n",
              "    }\n",
              "\n",
              "    [theme=dark] .colab-df-convert {\n",
              "      background-color: #3B4455;\n",
              "      fill: #D2E3FC;\n",
              "    }\n",
              "\n",
              "    [theme=dark] .colab-df-convert:hover {\n",
              "      background-color: #434B5C;\n",
              "      box-shadow: 0px 1px 3px 1px rgba(0, 0, 0, 0.15);\n",
              "      filter: drop-shadow(0px 1px 2px rgba(0, 0, 0, 0.3));\n",
              "      fill: #FFFFFF;\n",
              "    }\n",
              "  </style>\n",
              "\n",
              "      <script>\n",
              "        const buttonEl =\n",
              "          document.querySelector('#df-3ae3690c-09ee-42a7-b06b-9ffeb1069b6f button.colab-df-convert');\n",
              "        buttonEl.style.display =\n",
              "          google.colab.kernel.accessAllowed ? 'block' : 'none';\n",
              "\n",
              "        async function convertToInteractive(key) {\n",
              "          const element = document.querySelector('#df-3ae3690c-09ee-42a7-b06b-9ffeb1069b6f');\n",
              "          const dataTable =\n",
              "            await google.colab.kernel.invokeFunction('convertToInteractive',\n",
              "                                                     [key], {});\n",
              "          if (!dataTable) return;\n",
              "\n",
              "          const docLinkHtml = 'Like what you see? Visit the ' +\n",
              "            '<a target=\"_blank\" href=https://colab.research.google.com/notebooks/data_table.ipynb>data table notebook</a>'\n",
              "            + ' to learn more about interactive tables.';\n",
              "          element.innerHTML = '';\n",
              "          dataTable['output_type'] = 'display_data';\n",
              "          await google.colab.output.renderOutput(dataTable, element);\n",
              "          const docLink = document.createElement('div');\n",
              "          docLink.innerHTML = docLinkHtml;\n",
              "          element.appendChild(docLink);\n",
              "        }\n",
              "      </script>\n",
              "    </div>\n",
              "  </div>\n",
              "  "
            ]
          },
          "metadata": {},
          "execution_count": 4
        }
      ]
    },
    {
      "cell_type": "markdown",
      "source": [
        " **a. Check Descriptive Statistics**"
      ],
      "metadata": {
        "id": "bDLOLLXgq3Sg"
      }
    },
    {
      "cell_type": "code",
      "source": [
        "# Load dataset\n",
        "df = pd.read_csv(\"/content/drive/MyDrive/Colab Notebooks/buddymove_holidayiq.csv\")\n",
        "\n",
        "# Calculate mean\n",
        "mean = df.mean()\n",
        "\n",
        "# Calculate median\n",
        "median = df.median()\n",
        "\n",
        "# Calculate mode\n",
        "mode = df.mode()\n",
        "\n",
        "# Calculate variance\n",
        "variance = df.var()\n",
        "\n",
        "# Calculate standard deviation\n",
        "std_dev = df.std()\n",
        "\n",
        "# Calculate skewness\n",
        "skewness = df.skew()\n",
        "\n",
        "# Calculate kurtosis\n",
        "kurtosis = df.kurtosis()\n"
      ],
      "metadata": {
        "colab": {
          "base_uri": "https://localhost:8080/"
        },
        "id": "wOIfs1NNiZjE",
        "outputId": "0ad04d90-2776-42a2-eddb-8cefc98f120b"
      },
      "execution_count": null,
      "outputs": [
        {
          "output_type": "stream",
          "name": "stderr",
          "text": [
            "<ipython-input-9-5ea2cc72abb3>:5: FutureWarning: The default value of numeric_only in DataFrame.mean is deprecated. In a future version, it will default to False. In addition, specifying 'numeric_only=None' is deprecated. Select only valid columns or specify the value of numeric_only to silence this warning.\n",
            "  mean = df.mean()\n",
            "<ipython-input-9-5ea2cc72abb3>:8: FutureWarning: The default value of numeric_only in DataFrame.median is deprecated. In a future version, it will default to False. In addition, specifying 'numeric_only=None' is deprecated. Select only valid columns or specify the value of numeric_only to silence this warning.\n",
            "  median = df.median()\n",
            "<ipython-input-9-5ea2cc72abb3>:14: FutureWarning: The default value of numeric_only in DataFrame.var is deprecated. In a future version, it will default to False. In addition, specifying 'numeric_only=None' is deprecated. Select only valid columns or specify the value of numeric_only to silence this warning.\n",
            "  variance = df.var()\n",
            "<ipython-input-9-5ea2cc72abb3>:17: FutureWarning: The default value of numeric_only in DataFrame.std is deprecated. In a future version, it will default to False. In addition, specifying 'numeric_only=None' is deprecated. Select only valid columns or specify the value of numeric_only to silence this warning.\n",
            "  std_dev = df.std()\n",
            "<ipython-input-9-5ea2cc72abb3>:20: FutureWarning: The default value of numeric_only in DataFrame.skew is deprecated. In a future version, it will default to False. In addition, specifying 'numeric_only=None' is deprecated. Select only valid columns or specify the value of numeric_only to silence this warning.\n",
            "  skewness = df.skew()\n",
            "<ipython-input-9-5ea2cc72abb3>:23: FutureWarning: The default value of numeric_only in DataFrame.kurt is deprecated. In a future version, it will default to False. In addition, specifying 'numeric_only=None' is deprecated. Select only valid columns or specify the value of numeric_only to silence this warning.\n",
            "  kurtosis = df.kurtosis()\n"
          ]
        }
      ]
    },
    {
      "cell_type": "markdown",
      "source": [
        "**b. Show Relationships between various attrtibutes**"
      ],
      "metadata": {
        "id": "Z1oEzN_hq9QJ"
      }
    },
    {
      "cell_type": "code",
      "source": [
        "plt.scatter(df['Sports'], df['Religious'])\n",
        "plt.xlabel('Sports')\n",
        "plt.ylabel('Religious')\n",
        "plt.show()\n"
      ],
      "metadata": {
        "colab": {
          "base_uri": "https://localhost:8080/",
          "height": 449
        },
        "id": "tDBeRLi0kBe_",
        "outputId": "8c2bfb9a-8990-4bf7-f44b-8d77a1c3d770"
      },
      "execution_count": null,
      "outputs": [
        {
          "output_type": "display_data",
          "data": {
            "text/plain": [
              "<Figure size 640x480 with 1 Axes>"
            ],
            "image/png": "[encoded data removed]"
          },
          "metadata": {}
        }
      ]
    },
    {
      "cell_type": "markdown",
      "source": [
        " **c. Propose 3-4 Analytical questions about the data and show answers to them**"
      ],
      "metadata": {
        "id": "V57HZaUtrETn"
      }
    },
    {
      "cell_type": "markdown",
      "source": [
        "**1.Is there a relationship between nature and sports in the dataset?**"
      ],
      "metadata": {
        "id": "ImbX_aV-lY7N"
      }
    },
    {
      "cell_type": "code",
      "source": [
        "# Create a scatter plot to visualize the relationship\n",
        "plt.scatter(df['Nature'], df['Sports'])\n",
        "plt.xlabel('Nature')\n",
        "plt.ylabel('Sports')\n",
        "plt.show()\n"
      ],
      "metadata": {
        "colab": {
          "base_uri": "https://localhost:8080/",
          "height": 449
        },
        "id": "10VKVMPuleWj",
        "outputId": "859e92cc-8972-4c67-cd74-c0ef2e75a0b1"
      },
      "execution_count": null,
      "outputs": [
        {
          "output_type": "display_data",
          "data": {
            "text/plain": [
              "<Figure size 640x480 with 1 Axes>"
            ],
            "image/png": "[encoded data removed]"
          },
          "metadata": {}
        }
      ]
    },
    {
      "cell_type": "markdown",
      "source": [
        "**2.What is the most common sports in the dataset?**"
      ],
      "metadata": {
        "id": "_nP7N2vlmdbn"
      }
    },
    {
      "cell_type": "code",
      "source": [
        "# Find the most common sports\n",
        "most_common_sports = df['Sports'].mode()[0]\n",
        "\n",
        "print('The most common sports is:', most_common_sports)\n"
      ],
      "metadata": {
        "colab": {
          "base_uri": "https://localhost:8080/"
        },
        "id": "h0TzONyXmklp",
        "outputId": "ddafd75d-c289-4ca8-9875-5697907fbcda"
      },
      "execution_count": null,
      "outputs": [
        {
          "output_type": "stream",
          "name": "stdout",
          "text": [
            "The most common sports is: 12\n"
          ]
        }
      ]
    },
    {
      "cell_type": "markdown",
      "source": [
        "**3.How does the average shopping differ by picnic?**"
      ],
      "metadata": {
        "id": "FyffQsj1ndKc"
      }
    },
    {
      "cell_type": "code",
      "source": [
        "# Calculate mean shopping by picnic\n",
        "mean_Shopping_by_Picnic = df.groupby('Picnic')['Shopping'].mean()\n",
        "\n",
        "print(mean_Shopping_by_Picnic)\n"
      ],
      "metadata": {
        "colab": {
          "base_uri": "https://localhost:8080/"
        },
        "id": "HcntuenQnn7v",
        "outputId": "71524892-f328-4003-a692-d8d8e0c54ef8"
      },
      "execution_count": null,
      "outputs": [
        {
          "output_type": "stream",
          "name": "stdout",
          "text": [
            "Picnic\n",
            "61      76.00\n",
            "68      69.00\n",
            "69      82.25\n",
            "71      74.00\n",
            "72      77.50\n",
            "        ...  \n",
            "193    144.00\n",
            "198    104.00\n",
            "203    139.00\n",
            "213    144.00\n",
            "218    139.00\n",
            "Name: Shopping, Length: 75, dtype: float64\n"
          ]
        }
      ]
    },
    {
      "cell_type": "markdown",
      "source": [
        "**d.Check if all attributes are properly formed find missing values, outliers etc...**"
      ],
      "metadata": {
        "id": "kF-uXbiQovJT"
      }
    },
    {
      "cell_type": "code",
      "source": [
        "import seaborn as sns\n",
        "\n",
        "# Check for missing values\n",
        "print(df.isnull().sum())\n",
        "\n",
        "# Check data types\n",
        "print(df.dtypes)\n",
        "\n",
        "# Check for outliers using box plots\n",
        "sns.boxplot(data=df)\n",
        "plt.show()\n",
        "\n",
        "# Check summary statistics\n",
        "print(df.describe())\n"
      ],
      "metadata": {
        "colab": {
          "base_uri": "https://localhost:8080/",
          "height": 864
        },
        "id": "tnRHnYgUo36q",
        "outputId": "b6487cef-a7da-4405-f2d4-5e4277c64944"
      },
      "execution_count": null,
      "outputs": [
        {
          "output_type": "stream",
          "name": "stdout",
          "text": [
            "User Id      0\n",
            "Sports       0\n",
            "Religious    0\n",
            "Nature       0\n",
            "Theatre      0\n",
            "Shopping     0\n",
            "Picnic       0\n",
            "dtype: int64\n",
            "User Id      object\n",
            "Sports        int64\n",
            "Religious     int64\n",
            "Nature        int64\n",
            "Theatre       int64\n",
            "Shopping      int64\n",
            "Picnic        int64\n",
            "dtype: object\n"
          ]
        },
        {
          "output_type": "display_data",
          "data": {
            "text/plain": [
              "<Figure size 640x480 with 1 Axes>"
            ],
            "image/png": "[encoded data removed]"
          },
          "metadata": {}
        },
        {
          "output_type": "stream",
          "name": "stdout",
          "text": [
            "           Sports   Religious      Nature     Theatre    Shopping      Picnic\n",
            "count  249.000000  249.000000  249.000000  249.000000  249.000000  249.000000\n",
            "mean    11.987952  109.779116  124.518072  116.377510  112.638554  120.401606\n",
            "std      6.616501   32.454115   45.639372   32.132696   41.562888   32.633339\n",
            "min      2.000000   50.000000   52.000000   59.000000   50.000000   61.000000\n",
            "25%      6.000000   84.000000   89.000000   93.000000   79.000000   92.000000\n",
            "50%     12.000000  104.000000  119.000000  113.000000  104.000000  119.000000\n",
            "75%     18.000000  132.000000  153.000000  138.000000  138.000000  143.000000\n",
            "max     25.000000  203.000000  318.000000  213.000000  233.000000  218.000000\n"
          ]
        }
      ]
    },
    {
      "cell_type": "markdown",
      "source": [
        "**e. Find what kind of ML Problem you can define over this data and define it. Propose 2 distinct ML Algorithm based solutions.**\n",
        "\n",
        "**Ans:**  Based on the dataset, we can define a supervised learning problem where we aim to predict the shopping of an individual based on their picnic information. Specifically, this is a regression problem since the target variable (shopping) is continuous.\n",
        "\n",
        "Here are two potential ML algorithm-based solutions for this problem:\n",
        "\n",
        "1. Linear Regression: This is a popular algorithm for regression problems where we want to predict a continuous variable. The linear regression model will find the best-fit line that can predict the shopping based on the input features. We can train the model on the given dataset and use it to predict the shopping of new individuals based on their picnic information.\n",
        "\n",
        "2. Random Forest Regressor: This is another algorithm that can be used for regression problems. Random forest is an ensemble method that combines multiple decision trees to make predictions. In this case, we can train a random forest model on the dataset and use it to predict the shopping of new individuals. Random forest can handle both continuous and categorical data, which makes it suitable for this dataset.\n",
        "\n",
        "Both of these algorithms have their strengths and weaknesses, and the choice of which one to use would depend on the specific needs and requirements of the problem. For instance, linear regression is a simple and interpretable algorithm that can give us insights into which features are most important in predicting income. On the other hand, random forest can handle complex data and interactions between features, which might be useful in this case since there are multiple picnic variables that could be important in predicting shopping."
      ],
      "metadata": {
        "id": "Xp6gktDMpr8K"
      }
    }
  ]
}